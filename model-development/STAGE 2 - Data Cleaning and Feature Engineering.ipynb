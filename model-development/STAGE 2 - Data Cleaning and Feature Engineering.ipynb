{
 "cells": [
  {
   "cell_type": "markdown",
   "metadata": {},
   "source": [
    "<h2> Import Requirements </h2>"
   ]
  },
  {
   "cell_type": "code",
   "execution_count": 1,
   "metadata": {},
   "outputs": [
    {
     "name": "stdout",
     "output_type": "stream",
     "text": [
      "Requirement already satisfied: impyute in /home/nbuser/anaconda3_420/lib/python3.5/site-packages (0.0.8)\n",
      "Requirement already satisfied: numpy in /home/nbuser/anaconda3_420/lib/python3.5/site-packages (from impyute) (1.16.3)\n",
      "Requirement already satisfied: scikit-learn in /home/nbuser/anaconda3_420/lib/python3.5/site-packages (from impyute) (0.21.2)\n",
      "Requirement already satisfied: scipy in /home/nbuser/anaconda3_420/lib/python3.5/site-packages (from impyute) (1.1.0)\n",
      "Requirement already satisfied: joblib>=0.11 in /home/nbuser/anaconda3_420/lib/python3.5/site-packages (from scikit-learn->impyute) (0.12.5)\n",
      "\u001b[33mWARNING: You are using pip version 19.1, however version 19.1.1 is available.\n",
      "You should consider upgrading via the 'pip install --upgrade pip' command.\u001b[0m\n",
      "Requirement already up-to-date: scikit-learn in /home/nbuser/anaconda3_420/lib/python3.5/site-packages (0.21.2)\n",
      "Requirement already satisfied, skipping upgrade: numpy>=1.11.0 in /home/nbuser/anaconda3_420/lib/python3.5/site-packages (from scikit-learn) (1.16.3)\n",
      "Requirement already satisfied, skipping upgrade: joblib>=0.11 in /home/nbuser/anaconda3_420/lib/python3.5/site-packages (from scikit-learn) (0.12.5)\n",
      "Requirement already satisfied, skipping upgrade: scipy>=0.17.0 in /home/nbuser/anaconda3_420/lib/python3.5/site-packages (from scikit-learn) (1.1.0)\n",
      "\u001b[33mWARNING: You are using pip version 19.1, however version 19.1.1 is available.\n",
      "You should consider upgrading via the 'pip install --upgrade pip' command.\u001b[0m\n"
     ]
    }
   ],
   "source": [
    "!pip3 install impyute\n",
    "!pip install -U scikit-learn"
   ]
  },
  {
   "cell_type": "code",
   "execution_count": 7,
   "metadata": {},
   "outputs": [],
   "source": [
    "import pandas as pd\n",
    "import numpy as np\n",
    "import scipy as sp\n",
    "from sklearn.preprocessing import Imputer\n",
    "from sklearn.preprocessing import QuantileTransformer\n",
    "from sklearn.pipeline import Pipeline\n",
    "import matplotlib.pyplot as plt\n",
    "from impyute.imputation.cs import fast_knn\n",
    "from impyute.imputation.cs import mice"
   ]
  },
  {
   "cell_type": "markdown",
   "metadata": {},
   "source": [
    "<h2> Load Necessary Data </h2>"
   ]
  },
  {
   "cell_type": "code",
   "execution_count": 3,
   "metadata": {},
   "outputs": [
    {
     "name": "stdout",
     "output_type": "stream",
     "text": [
      "<class 'pandas.core.frame.DataFrame'>\n",
      "RangeIndex: 2566 entries, 0 to 2565\n",
      "Columns: 132 entries, date to firm\n",
      "dtypes: float64(130), object(2)\n",
      "memory usage: 2.6+ MB\n"
     ]
    }
   ],
   "source": [
    "alldata = pd.read_csv(\"sp500alldata.csv\", error_bad_lines=False)\n",
    "alldata.info()"
   ]
  },
  {
   "cell_type": "code",
   "execution_count": 4,
   "metadata": {},
   "outputs": [
    {
     "name": "stdout",
     "output_type": "stream",
     "text": [
      "<class 'pandas.core.frame.DataFrame'>\n",
      "RangeIndex: 505 entries, 0 to 504\n",
      "Data columns (total 3 columns):\n",
      "Symbol    505 non-null object\n",
      "Name      505 non-null object\n",
      "Sector    505 non-null object\n",
      "dtypes: object(3)\n",
      "memory usage: 11.9+ KB\n"
     ]
    }
   ],
   "source": [
    "constdata = pd.read_csv(\"constituents_csv.csv\", error_bad_lines=False)\n",
    "constdata.info()"
   ]
  },
  {
   "cell_type": "code",
   "execution_count": 5,
   "metadata": {},
   "outputs": [
    {
     "name": "stdout",
     "output_type": "stream",
     "text": [
      "<class 'pandas.core.frame.DataFrame'>\n",
      "RangeIndex: 58 entries, 0 to 57\n",
      "Data columns (total 4 columns):\n",
      "Date       58 non-null int64\n",
      "Value_x    58 non-null float64\n",
      "Value_y    58 non-null float64\n",
      "Value      43 non-null float64\n",
      "dtypes: float64(3), int64(1)\n",
      "memory usage: 1.9 KB\n"
     ]
    }
   ],
   "source": [
    "econdata = pd.read_csv(\"annualecondata.csv\", error_bad_lines=False)\n",
    "econdata.info()"
   ]
  },
  {
   "cell_type": "code",
   "execution_count": 6,
   "metadata": {},
   "outputs": [
    {
     "name": "stdout",
     "output_type": "stream",
     "text": [
      "<class 'pandas.core.frame.DataFrame'>\n",
      "RangeIndex: 221 entries, 0 to 220\n",
      "Data columns (total 3 columns):\n",
      "Date              221 non-null int64\n",
      "Index Value       221 non-null float64\n",
      "Standard Error    221 non-null float64\n",
      "dtypes: float64(2), int64(1)\n",
      "memory usage: 5.3 KB\n"
     ]
    }
   ],
   "source": [
    "stockconf = pd.read_csv(\"stockconfidencedata.csv\", error_bad_lines=False)\n",
    "stockconf.info()"
   ]
  },
  {
   "cell_type": "markdown",
   "metadata": {},
   "source": [
    "<h2> Prepare Consolidated Dataset </h2>"
   ]
  },
  {
   "cell_type": "markdown",
   "metadata": {},
   "source": [
    "<b> STEP 1: Dimension Cleaning </b>"
   ]
  },
  {
   "cell_type": "markdown",
   "metadata": {},
   "source": [
    "While most of the data is 5-year worth of yearly information, some errenous entries have far more frequent information - monthly, quarterly etc., owing to irregularities in data collection. Since dividend payments are considered yearly, such errenous values must be dealt with"
   ]
  },
  {
   "cell_type": "code",
   "execution_count": 7,
   "metadata": {},
   "outputs": [],
   "source": [
    "alldata.sort_values(by=['firm', 'date'], ascending = [True, True], inplace=True)\n",
    "alldata.reset_index(drop=True, inplace=True)"
   ]
  },
  {
   "cell_type": "code",
   "execution_count": 8,
   "metadata": {},
   "outputs": [
    {
     "data": {
      "text/plain": [
       "VALID         2560\n",
       "Unnamed: 1       6\n",
       "Name: date, dtype: int64"
      ]
     },
     "execution_count": 8,
     "metadata": {},
     "output_type": "execute_result"
    }
   ],
   "source": [
    "alldata.date.apply(lambda s: 'VALID' if str(s)[0].isnumeric() else s).value_counts(dropna=False)"
   ]
  },
  {
   "cell_type": "code",
   "execution_count": 9,
   "metadata": {},
   "outputs": [],
   "source": [
    "firms = alldata[alldata.date=='Unnamed: 1'].firm\n",
    "alldata = alldata[(~(alldata.firm.isin(firms)))]"
   ]
  },
  {
   "cell_type": "code",
   "execution_count": 10,
   "metadata": {
    "scrolled": true
   },
   "outputs": [
    {
     "data": {
      "text/plain": [
       "array(['EVHC', 'HBI', 'NFX', 'NWS', 'SCG', 'UA', 'YUM'], dtype=object)"
      ]
     },
     "execution_count": 10,
     "metadata": {},
     "output_type": "execute_result"
    }
   ],
   "source": [
    "counter = alldata.date.apply(lambda s: int(s.split(\"-\")[0]))\n",
    "rmv = alldata.loc[(counter.diff().shift(-1)==0) & (alldata.firm == alldata.firm.shift(-1)), ['date', 'firm']]\n",
    "rmv.firm.unique()"
   ]
  },
  {
   "cell_type": "code",
   "execution_count": 11,
   "metadata": {},
   "outputs": [],
   "source": [
    "alldata.drop(rmv.index, inplace=True)"
   ]
  },
  {
   "cell_type": "markdown",
   "metadata": {},
   "source": [
    "<b> STEP 2: Missing Value Deletions </b>"
   ]
  },
  {
   "cell_type": "markdown",
   "metadata": {},
   "source": [
    "We first analyze the number of missing values across columns and decide to drop any above 60%. As seen below, 21 of the 168 columns meet this requirement. Out of these, however, investments in research and development is considered an important factor for a firm, and is hence kept."
   ]
  },
  {
   "cell_type": "code",
   "execution_count": 12,
   "metadata": {},
   "outputs": [
    {
     "data": {
      "text/plain": [
       "Operating expenses                      1.0\n",
       "Research and development                1.0\n",
       "Other                                   1.0\n",
       "Earnings per share                      1.0\n",
       "Weighted average shares outstanding     1.0\n",
       "Assets                                  1.0\n",
       "Current assets                          1.0\n",
       "Cash                                    1.0\n",
       "Short-term investments                  1.0\n",
       "Non-current assets                      1.0\n",
       "Property, plant and equipment           1.0\n",
       "Equity and other investments            1.0\n",
       "Prepaid pension benefit                 1.0\n",
       "Liabilities and stockholders' equity    1.0\n",
       "Liabilities                             1.0\n",
       "Current liabilities                     1.0\n",
       "Non-current liabilities                 1.0\n",
       "Capital leases                          1.0\n",
       "Pensions and other benefits             1.0\n",
       "Minority interest                       1.0\n",
       "Stockholders' equity                    1.0\n",
       "dtype: float64"
      ]
     },
     "execution_count": 12,
     "metadata": {},
     "output_type": "execute_result"
    }
   ],
   "source": [
    "x = alldata.apply(lambda s: 1 if (sum(s.isnull() * 1)) > 0.6 * len(s) else np.nan).dropna()\n",
    "x"
   ]
  },
  {
   "cell_type": "code",
   "execution_count": 13,
   "metadata": {},
   "outputs": [],
   "source": [
    "coldel = np.delete(x.index.values, np.where(x.index.values=='Research and development')[0])\n",
    "alldata.drop(coldel, axis=1, inplace=True)"
   ]
  },
  {
   "cell_type": "code",
   "execution_count": 14,
   "metadata": {},
   "outputs": [
    {
     "data": {
      "text/plain": [
       "NFX    535.0\n",
       "NWS    535.0\n",
       "dtype: float64"
      ]
     },
     "execution_count": 14,
     "metadata": {},
     "output_type": "execute_result"
    }
   ],
   "source": [
    "#We now analyze the number of null values per company. While most companies have 5 rows (5 years), some have fewer and so we need to make\n",
    "#sure that the firms where np.nan exceeds 60% of values are removed. We can use value_counts() to retrieve how many rows a firm has\n",
    "rownum = alldata.firm.value_counts()\n",
    "rownum = rownum[alldata.firm.unique()]\n",
    "#Having retrived correct row counts, we now get null numbers for each company\n",
    "nullnum = alldata.apply(lambda s: sum(s.isnull() * 1), axis=1)\n",
    "nullnum = np.cumsum(nullnum)\n",
    "changeorg = nullnum.where(alldata.firm != alldata.firm.shift(1)).ffill().fillna(0)\n",
    "nullnum = nullnum - changeorg\n",
    "nullnum = nullnum.where(alldata.firm != alldata.firm.shift(-1)).dropna()\n",
    "nullnum.index = alldata.firm.unique()\n",
    "nval = nullnum[nullnum >= 0.6 * rownum * 148]\n",
    "nval"
   ]
  },
  {
   "cell_type": "code",
   "execution_count": 15,
   "metadata": {},
   "outputs": [],
   "source": [
    "firmstodrop = nval.index.values\n",
    "indices = alldata[alldata.firm.isin(firmstodrop)].index.values\n",
    "alldata.drop(indices, axis=0, inplace=True)\n",
    "alldata.reset_index(drop=True, inplace=True)"
   ]
  },
  {
   "cell_type": "code",
   "execution_count": 16,
   "metadata": {},
   "outputs": [],
   "source": [
    "#Special adjustment based on quality, relevance and repetition of data involved\n",
    "#The columns involved below are  repetitions or correlations of existing financial metrics, thus crowding analysis\n",
    "badcols = ['Net income from continuing operations', 'Net income available to common shareholders', \n",
    "           'Cash and cash equivalents', 'Current ratio','Debt to Equity','ROE', 'ROIC', \n",
    "           'Receivables Turnover','Return on Tangible Assets', \n",
    "           'Tangible Asset Value','Working Capital']\n",
    "alldata.drop(badcols, axis=1, inplace=True)"
   ]
  },
  {
   "cell_type": "markdown",
   "metadata": {},
   "source": [
    "<b> STEP 3: Merge Supplementary Data </b>"
   ]
  },
  {
   "cell_type": "markdown",
   "metadata": {},
   "source": [
    "We must combine the main S&P500 financial dataset with the economics, stock confidence and sector data that was collected simultaneously. Sector data is merged on firm, annual economics on year and stock confidence on month. Relevant features are temporarily added to facilitate such merges."
   ]
  },
  {
   "cell_type": "code",
   "execution_count": 17,
   "metadata": {},
   "outputs": [],
   "source": [
    "constdata.rename(columns={'Symbol':'firm'}, inplace=True)\n",
    "alldata = alldata.merge(constdata[['firm', 'Sector']], on='firm', how='left')"
   ]
  },
  {
   "cell_type": "code",
   "execution_count": 18,
   "metadata": {},
   "outputs": [],
   "source": [
    "cols = econdata.columns.values\n",
    "vals = ['Year','GDP', 'GNI', 'Market_Cap']\n",
    "econdata.rename(columns = dict(zip(cols, vals)), inplace=True)\n",
    "econdata.Year = econdata.Year.apply(lambda s: int(s/100))\n",
    "alldata['Year'] = alldata.date.apply(lambda s: int(s.split('-')[0]))"
   ]
  },
  {
   "cell_type": "code",
   "execution_count": 19,
   "metadata": {},
   "outputs": [],
   "source": [
    "#Front fill to latest economics entry required before merging\n",
    "latestecon = econdata.sort_values(by='Year', ascending=False).iloc[0]\n",
    "curtime = alldata.Year.max()\n",
    "newvals = econdata.loc[np.array([0]).repeat(curtime - latestecon.Year)].copy()\n",
    "adj = pd.Series(np.arange(curtime - latestecon.Year) + 1)\n",
    "newvals.reset_index(drop=True, inplace=True)\n",
    "newvals['Year'] = newvals['Year'] + adj\n",
    "econdata = econdata.append(newvals)\n",
    "econdata.sort_values(by='Year', ascending=False, inplace=True)\n",
    "econdata = econdata[econdata.Year >= alldata.Year.min()]\n",
    "econdata.reset_index(drop=True, inplace=True)"
   ]
  },
  {
   "cell_type": "code",
   "execution_count": 20,
   "metadata": {},
   "outputs": [],
   "source": [
    "econdata.Year = econdata.Year.astype('int')\n",
    "alldata = alldata.merge(econdata, on='Year', how='left')\n",
    "alldata.drop(['Year'], axis=1, inplace=True)"
   ]
  },
  {
   "cell_type": "code",
   "execution_count": 21,
   "metadata": {},
   "outputs": [],
   "source": [
    "def yearshift(base, amt):\n",
    "    mth = base % 100\n",
    "    year = (base - mth)/100\n",
    "    mth = mth + amt\n",
    "    if mth > 12:\n",
    "        year = year + (mth - (mth % 12))/12\n",
    "        mth = mth % 12\n",
    "    return int(year * 100 + mth)"
   ]
  },
  {
   "cell_type": "code",
   "execution_count": 22,
   "metadata": {},
   "outputs": [],
   "source": [
    "def mthdiff (val1, val2):\n",
    "    endyear = int(val1/100)\n",
    "    endmonth = val1 % 100\n",
    "    startyear = int(val2/100)\n",
    "    startmonth = val2 % 100\n",
    "    return (endyear - startyear) * 100 + (endmonth - startmonth)"
   ]
  },
  {
   "cell_type": "code",
   "execution_count": 23,
   "metadata": {},
   "outputs": [
    {
     "name": "stderr",
     "output_type": "stream",
     "text": [
      "/home/nbuser/anaconda3_420/lib/python3.5/site-packages/ipykernel/__main__.py:9: SettingWithCopyWarning: \n",
      "A value is trying to be set on a copy of a slice from a DataFrame.\n",
      "Try using .loc[row_indexer,col_indexer] = value instead\n",
      "\n",
      "See the caveats in the documentation: http://pandas.pydata.org/pandas-docs/stable/indexing.html#indexing-view-versus-copy\n",
      "/home/nbuser/anaconda3_420/lib/python3.5/site-packages/ipykernel/__main__.py:10: SettingWithCopyWarning: \n",
      "A value is trying to be set on a copy of a slice from a DataFrame.\n",
      "Try using .loc[row_indexer,col_indexer] = value instead\n",
      "\n",
      "See the caveats in the documentation: http://pandas.pydata.org/pandas-docs/stable/indexing.html#indexing-view-versus-copy\n"
     ]
    }
   ],
   "source": [
    "#Front fill to latest stock confidence values required before merging\n",
    "stockconf.rename(columns={'Date':'date'}, inplace=True)\n",
    "alldata.date = alldata.date.apply(lambda s: int(s.split('-')[0] + s.split('-')[1]))\n",
    "conflatest = stockconf.date.max()\n",
    "curperiod = alldata.date.max()\n",
    "newvals = stockconf.loc[np.array([stockconf.loc[stockconf.date==conflatest].index[0]]).repeat(mthdiff(curperiod, conflatest))]\n",
    "newvals.reset_index(drop=True, inplace=True)\n",
    "adj = pd.Series(np.arange(mthdiff(curperiod, conflatest)) + 1)\n",
    "newvals['date'] = newvals['date'].astype('str') + ' ' + adj.astype('str')\n",
    "newvals['date'] = newvals['date'].apply(lambda s: yearshift(int(s.split()[0]), int(s.split()[1])))"
   ]
  },
  {
   "cell_type": "code",
   "execution_count": 24,
   "metadata": {},
   "outputs": [
    {
     "name": "stdout",
     "output_type": "stream",
     "text": [
      "<class 'pandas.core.frame.DataFrame'>\n",
      "Int64Index: 2324 entries, 0 to 2323\n",
      "Columns: 107 entries, date to Standard Error\n",
      "dtypes: float64(104), int64(1), object(2)\n",
      "memory usage: 1.9+ MB\n"
     ]
    }
   ],
   "source": [
    "stockconf = stockconf.append(newvals)\n",
    "stockconf.sort_values(by='date', ascending=False)\n",
    "stockconf = stockconf[stockconf.date >= alldata.date.min()]\n",
    "stockconf.reset_index(drop=True, inplace=True)\n",
    "alldata = alldata.merge(stockconf, on='date', how='left')\n",
    "alldata.info()"
   ]
  },
  {
   "cell_type": "markdown",
   "metadata": {},
   "source": [
    "<h2> Missing Value Imputation </h2>"
   ]
  },
  {
   "cell_type": "markdown",
   "metadata": {},
   "source": [
    "The strategy for imputation we decided to adopt was three-pronged. First, we attempt to calculate income and balance sheet values (not ratios), if possible from other corresponding columns, like Revenue = Grossprofit + Cost of revenue, etc. We repeat this for income statement and balance sheet variables (since such corrections exist), until no better values can be figured. For remaining null values, in the second stage, we fill all nulls in a column with a company-by-company average of non-null figures. In the third stage, if such missing values continue to persist, we  impute them with  average value from their sector of operations. Finally, we re-calculate all ratios from the new information gained by performing the three stages on income/balance sheet data, and any ratio outside the scope of such calculation is filled again by sklearn's Imputer"
   ]
  },
  {
   "cell_type": "markdown",
   "metadata": {},
   "source": [
    "<b> STEP 1: Internal Calculations </b>"
   ]
  },
  {
   "cell_type": "code",
   "execution_count": 25,
   "metadata": {},
   "outputs": [
    {
     "name": "stdout",
     "output_type": "stream",
     "text": [
      "8544\n",
      "8347\n",
      "8347\n",
      "Income values done\n"
     ]
    }
   ],
   "source": [
    "#Income statement variables\n",
    "#We repeat it till it is able to make no more difference\n",
    "oldnullinc = np.inf\n",
    "curnullinc = alldata.apply(lambda s: sum(s.isnull()))[:13].values.sum()\n",
    "while curnullinc < oldnullinc:\n",
    "    alldata.loc[alldata.Revenue.isnull(), \"Revenue\"] = alldata[\"Gross profit\"] + alldata[\"Cost of revenue\"]\n",
    "    alldata.loc[alldata['Cost of revenue'].isnull(), \"Cost of revenue\"] = alldata[\"Revenue\"] - alldata[\"Gross profit\"]\n",
    "    alldata.loc[alldata['Gross profit'].isnull(), \"Gross profit\"] = alldata[\"Revenue\"] - alldata[\"Cost of revenue\"]\n",
    "    alldata.loc[alldata['Gross profit'].isnull(), \"Gross profit\"] = alldata[\"Operating income\"] + alldata[\"Total operating expenses\"]\n",
    "    alldata.loc[alldata['Total operating expenses'].isnull(), \"Total operating expenses\"] = alldata[\"Gross profit\"] - alldata[\"Operating income\"]\n",
    "    alldata.loc[alldata['Operating income'].isnull(), \"Operating income\"] = alldata[\"Gross profit\"] - alldata[\"Total operating expenses\"]\n",
    "    alldata.loc[alldata['Operating income'].isnull(), \"Operating income\"]  = alldata[\"Income before taxes\"] - alldata['Other income (expense)'] + alldata['Interest Expense']\n",
    "    alldata.loc[alldata['Interest Expense'].isnull(), \"Interest Expense\"] = alldata['Operating income'] + alldata['Other income (expense)'] - alldata['Income before taxes']\n",
    "    alldata.loc[alldata['Other income (expense)'].isnull(), \"Other income (expense)\"] = alldata[\"Income before taxes\"] + alldata[\"Interest Expense\"] - alldata[\"Operating income\"]\n",
    "    alldata.loc[alldata['Income before taxes'].isnull(), \"Income before taxes\"] = alldata['Operating income'] - alldata['Interest Expense'] + alldata['Other income (expense)']\n",
    "    alldata.loc[alldata['Income before taxes'].isnull(), \"Income before taxes\"] = alldata['Net income'] + alldata['Provision for income taxes']\n",
    "    alldata.loc[alldata['Provision for income taxes'].isnull(), \"Provision for income taxes\"] = alldata[\"Income before taxes\"] - alldata[\"Net income\"]\n",
    "    alldata.loc[alldata['Net income'].isnull(), \"Net income\"] = alldata['Income before taxes'] - alldata['Provision for income taxes']\n",
    "    oldnullinc = curnullinc\n",
    "    curnullinc = alldata.apply(lambda s: sum(s.isnull()))[:13].values.sum()\n",
    "    print(curnullinc)\n",
    "\n",
    "print(\"Income values done\")"
   ]
  },
  {
   "cell_type": "code",
   "execution_count": 26,
   "metadata": {},
   "outputs": [
    {
     "name": "stdout",
     "output_type": "stream",
     "text": [
      "18661\n",
      "18559\n",
      "18559\n",
      "balance sheet variables done\n"
     ]
    }
   ],
   "source": [
    "#Balance sheet variables\n",
    "#We repeat till it is able to make no more difference, similarly as above\n",
    "oldnullinc = np.inf\n",
    "curnullinc = alldata.apply(lambda s: sum(s.isnull()))[16:48].values.sum()\n",
    "while curnullinc < oldnullinc:\n",
    "    alldata.loc[alldata['Total current assets'].isnull(), \"Total current assets\"] = alldata['Total cash'] + alldata['Receivables'] + alldata['Inventories'] + alldata['Prepaid expenses'] + alldata['Other current assets']\n",
    "    alldata.loc[alldata['Total cash'].isnull(), \"Total cash\"] = alldata['Total current assets'] - alldata['Receivables'] - alldata['Inventories'] - alldata['Prepaid expenses'] - alldata['Other current assets']\n",
    "    alldata.loc[alldata['Receivables'].isnull(), \"Receivables\"] = alldata['Total current assets'] - alldata['Total cash'] - alldata['Inventories'] - alldata['Prepaid expenses'] - alldata['Other current assets']\n",
    "    alldata.loc[alldata['Inventories'].isnull(), \"Inventories\"] = alldata['Total current assets'] - alldata['Receivables'] - alldata['Total cash'] - alldata['Prepaid expenses'] - alldata['Other current assets']\n",
    "    alldata.loc[alldata['Prepaid expenses'].isnull(), \"Prepaid expenses\"] = alldata['Total current assets'] - alldata['Receivables'] - alldata['Inventories'] - alldata['Total cash'] - alldata['Other current assets']\n",
    "    alldata.loc[alldata['Other current assets'].isnull(), \"Other current assets\"] = alldata['Total current assets'] - alldata['Receivables'] - alldata['Inventories'] - alldata['Prepaid expenses'] - alldata['Total cash']\n",
    "    alldata.loc[alldata['Gross property, plant and equipment'].isnull(), \"Gross property, plant and equipment\"] = alldata['Net property, plant and equipment'] - alldata['Accumulated Depreciation']\n",
    "    alldata.loc[alldata['Accumulated Depreciation'].isnull(), \"Accumulated Depreciation\"] = alldata['Net property, plant and equipment'] - alldata['Gross property, plant and equipment']\n",
    "    alldata.loc[alldata['Net property, plant and equipment'].isnull(), 'Net property, plant and equipment'] = alldata['Gross property, plant and equipment'] + alldata['Accumulated Depreciation']\n",
    "    alldata.loc[alldata['Net property, plant and equipment'].isnull(), 'Net property, plant and equipment'] = alldata['Total non-current assets'] - alldata['Goodwill'] - alldata['Intangible assets'] - alldata['Other long-term assets']\n",
    "    alldata.loc[alldata['Goodwill'].isnull(), \"Goodwill\"] = alldata['Total non-current assets'] - alldata['Net property, plant and equipment'] - alldata['Intangible assets'] - alldata['Other long-term assets']\n",
    "    alldata.loc[alldata['Intangible assets'].isnull(), \"Intangible assets\"] = alldata['Total non-current assets'] - alldata['Goodwill'] - alldata['Net property, plant and equipment'] - alldata['Other long-term assets']\n",
    "    alldata.loc[alldata['Other long-term assets'].isnull(), \"Other long-term assets\"] = alldata['Total non-current assets'] - alldata['Goodwill'] - alldata['Intangible assets'] - alldata['Net property, plant and equipment']\n",
    "    alldata.loc[alldata['Total non-current assets'].isnull(), \"Total non-current assets\"] = alldata['Net property, plant and equipment'] + alldata['Goodwill'] + alldata['Intangible assets'] + alldata['Other long-term assets']\n",
    "    alldata.loc[alldata['Total assets'].isnull(), 'Total assets']  = alldata['Total current assets'] + alldata['Total non-current assets']\n",
    "    alldata.loc[alldata['Total current assets'].isnull(), \"Total current assets\"] = alldata['Total assets'] - alldata['Total non-current assets']\n",
    "    alldata.loc[alldata['Total non-current assets'].isnull(), 'Total non-current assets'] = alldata['Total assets'] - alldata['Total current assets']\n",
    "    \n",
    "    alldata.loc[alldata['Short-term debt'].isnull(), \"Short-term debt\"] = alldata['Total current liabilities'] - alldata['Other current liabilities'] - alldata['Accrued liabilities'] - alldata['Taxes payable'] - alldata['Accounts payable']\n",
    "    alldata.loc[alldata['Accounts payable'].isnull(), \"Accounts payable\"] = alldata['Total current liabilities'] - alldata['Other current liabilities'] - alldata['Accrued liabilities'] - alldata['Taxes payable'] - alldata['Short-term debt']\n",
    "    alldata.loc[alldata['Taxes payable'].isnull(), \"Taxes payable\"] = alldata['Total current liabilities'] - alldata['Other current liabilities'] - alldata['Accrued liabilities'] - alldata['Short-term debt'] - alldata['Accounts payable']\n",
    "    alldata.loc[alldata['Accrued liabilities'].isnull(), \"Accrued liabilities\"] = alldata['Total current liabilities'] - alldata['Other current liabilities'] - alldata['Short-term debt'] - alldata['Taxes payable'] - alldata['Accounts payable']\n",
    "    alldata.loc[alldata['Other current liabilities'].isnull(), \"Other current liabilities\"] = alldata['Total current liabilities'] - alldata['Short-term debt'] - alldata['Accrued liabilities'] - alldata['Taxes payable'] - alldata['Accounts payable']\n",
    "    alldata.loc[alldata['Total current liabilities'].isnull(), \"Total current liabilities\"] = alldata['Short-term debt'] + alldata['Other current liabilities'] + alldata['Accrued liabilities'] + alldata['Taxes payable'] + alldata['Accounts payable']\n",
    "    alldata.loc[alldata['Long-term debt'].isnull(), \"Long-term debt\"] = alldata['Total non-current liabilities'] - alldata['Other long-term liabilities'] - alldata['Deferred taxes liabilities']\n",
    "    alldata.loc[alldata['Deferred taxes liabilities'].isnull(), \"Deferred taxes liabilities\"] = alldata['Total non-current liabilities'] - alldata['Other long-term liabilities'] - alldata['Long-term debt']\n",
    "    alldata.loc[alldata['Other long-term liabilities'].isnull(), \"Other long-term liabilities\"] = alldata['Total non-current liabilities'] -alldata['Long-term debt'] - alldata['Deferred taxes liabilities']\n",
    "    alldata.loc[alldata['Total non-current liabilities'].isnull(), \"Total non-current liabilities\"] = alldata['Long-term debt'] + alldata['Other long-term liabilities'] + alldata['Deferred taxes liabilities']\n",
    "    alldata.loc[alldata['Total liabilities'].isnull(), \"Total liabilities\"]  = alldata['Total current liabilities'] + alldata['Total non-current liabilities']\n",
    "    alldata.loc[alldata['Total current liabilities'].isnull(), \"Total current liabilities\"] = alldata[\"Total liabilities\"] - alldata['Total non-current liabilities']\n",
    "    alldata.loc[alldata['Total non-current liabilities'].isnull(), \"Total non-current liabilities\"] = alldata['Total liabilities'] - alldata['Total current liabilities']\n",
    "    \n",
    "    alldata.loc[alldata['Common stock'].isnull(), \"Common stock\"] = alldata[\"Total stockholders' equity\"] - alldata[\"Accumulated other comprehensive income\"] - alldata['Treasury stock'] - alldata['Retained earnings'] - alldata['Additional paid-in capital']\n",
    "    alldata.loc[alldata['Additional paid-in capital'].isnull(), \"Additional paid-in capital\"] = alldata[\"Total stockholders' equity\"] - alldata[\"Accumulated other comprehensive income\"] - alldata['Treasury stock'] - alldata['Retained earnings'] - alldata['Common stock']\n",
    "    alldata.loc[alldata['Retained earnings'].isnull(), \"Retained earnings\"] = alldata[\"Total stockholders' equity\"] - alldata[\"Accumulated other comprehensive income\"] - alldata['Treasury stock'] - alldata['Common stock'] - alldata['Additional paid-in capital']\n",
    "    alldata.loc[alldata['Treasury stock'].isnull(), \"Treasury stock\"] = alldata[\"Total stockholders' equity\"] - alldata[\"Accumulated other comprehensive income\"] - alldata['Common stock'] - alldata['Retained earnings'] - alldata['Additional paid-in capital']\n",
    "    alldata.loc[alldata['Accumulated other comprehensive income'].isnull(), \"Accumulated other comprehensive income\"] = alldata[\"Total stockholders' equity\"] - alldata[\"Common stock\"] - alldata['Treasury stock'] - alldata['Retained earnings'] - alldata['Additional paid-in capital']\n",
    "    alldata.loc[alldata[\"Total stockholders' equity\"].isnull(), \"Total stockholders' equity\"] = alldata[\"Common stock\"] + alldata[\"Accumulated other comprehensive income\"] + alldata['Treasury stock'] + alldata['Retained earnings'] + alldata['Additional paid-in capital']\n",
    "    \n",
    "    alldata.loc[alldata[\"Total liabilities and stockholders' equity\"].isnull(), \"Total liabilities and stockholders' equity\"] = alldata['Total liabilities'] + alldata[\"Total stockholders' equity\"]\n",
    "    alldata.loc[alldata[\"Total stockholders' equity\"].isnull(), \"Total stockholders' equity\"] = alldata[\"Total liabilities and stockholders' equity\"] - alldata['Total liabilities']\n",
    "    alldata.loc[alldata['Total liabilities'].isnull(), \"Total liabilities\"] = alldata[\"Total liabilities and stockholders' equity\"] - alldata[\"Total stockholders' equity\"]\n",
    "    alldata.loc[alldata[\"Total assets\"].isnull(), \"Total assets\"] = alldata[\"Total liabilities and stockholders' equity\"]\n",
    "    alldata.loc[alldata[\"Total liabilities and stockholders' equity\"].isnull(), \"Total liabilities and stockholders' equity\"] = alldata[\"Total assets\"]\n",
    "    \n",
    "    oldnullinc = curnullinc\n",
    "    curnullinc = alldata.apply(lambda s: sum(s.isnull()))[16:48].values.sum()\n",
    "    print (curnullinc)\n",
    "\n",
    "print(\"balance sheet variables done\")"
   ]
  },
  {
   "cell_type": "code",
   "execution_count": 28,
   "metadata": {},
   "outputs": [],
   "source": [
    "#If any incorrect values (eg. negative stockholder's equity, liabilities > assets etc., these are set to np.nan, and left for imputation)\n",
    "nonneg = set(alldata.columns.values) - set(['Other income (expense)', 'firm', 'Sector'])\n",
    "for col in nonneg:\n",
    "    alldata.loc[alldata[col] < 0, col] = np.nan\n",
    "#Special edge cases\n",
    "alldata.loc[alldata['Cost of revenue'] > alldata['Revenue'], ['Cost of revenue', 'Revenue', 'Gross profit']] = np.nan\n",
    "alldata.loc[alldata['Total assets'] < alldata['Total liabilities'], ['Total assets', 'Total liabilities']] = np.nan\n",
    "alldata.loc[alldata['Total current liabilities'] > alldata['Total liabilities'], ['Total current liabilities', 'Total non-current liabilities', 'Total liabilities']] = np.nan\n",
    "alldata.loc[alldata['Total non-current liabilities'] > alldata['Total liabilities'], ['Total current liabilities', 'Total non-current liabilities', 'Total liabilities']] = np.nan\n"
   ]
  },
  {
   "cell_type": "code",
   "execution_count": 29,
   "metadata": {},
   "outputs": [],
   "source": [
    "#Other calculations\n",
    "alldata.loc[alldata.Basic_EPS.isnull(), \"Basic_EPS\"] = alldata[\"Diluted_EPS\"]\n",
    "alldata.loc[alldata.Diluted_EPS.isnull(), \"Diluted_EPS\"] = alldata[\"Basic_EPS\"]\n",
    "alldata.loc[alldata.EBITDA.isnull(), \"EBITDA\"] = alldata[\"Income before taxes\"] + alldata[\"Interest Expense\"]"
   ]
  },
  {
   "cell_type": "markdown",
   "metadata": {},
   "source": [
    "<b> STEP 2: Average Value Imputation - Historic Company Values and Sector Values </b>"
   ]
  },
  {
   "cell_type": "code",
   "execution_count": 30,
   "metadata": {},
   "outputs": [],
   "source": [
    "#Historic Company Averages\n",
    "def correct(row, col, vals):\n",
    "    if (str(row[col])=='nan') & (vals[row['firm']] != 0):\n",
    "        row[col] = vals[row['firm']]\n",
    "    return row\n",
    "\n",
    "def histcompavg (var):\n",
    "    if np.where(alldata.columns.values==var.name)[0][0] in range(1,48):\n",
    "        rev = np.cumsum(var).ffill()\n",
    "        rev = rev - (rev.where(alldata.firm != alldata.firm.shift(-1))).shift(1).ffill().fillna(0)\n",
    "        rev = rev[alldata.firm != alldata.firm.shift(-1)]\n",
    "        rev.index = alldata.firm.unique()\n",
    "        rownum = alldata.firm.value_counts()\n",
    "        rownum = rownum[alldata.firm.unique()]\n",
    "        rev = rev / rownum\n",
    "        x = pd.concat([var, alldata.firm], axis=1)\n",
    "        x = x.apply(lambda s: correct(s, var.name, rev), axis=1)\n",
    "        x[var.name] = x[var.name].apply(lambda s: round(s,2))\n",
    "        return x[var.name]\n",
    "    else:\n",
    "        return var\n",
    "\n",
    "alldata = alldata.apply(lambda s: histcompavg(s))"
   ]
  },
  {
   "cell_type": "code",
   "execution_count": 31,
   "metadata": {},
   "outputs": [
    {
     "data": {
      "text/plain": [
       "Consumer Discretionary        342\n",
       "Industrials                   329\n",
       "Financials                    329\n",
       "Information Technology        310\n",
       "Health Care                   292\n",
       "Real Estate                   153\n",
       "Energy                        152\n",
       "Consumer Staples              143\n",
       "Utilities                     140\n",
       "Materials                     119\n",
       "Telecommunication Services     15\n",
       "Name: Sector, dtype: int64"
      ]
     },
     "execution_count": 31,
     "metadata": {},
     "output_type": "execute_result"
    }
   ],
   "source": [
    "#Analyze sector composition\n",
    "alldata.Sector.value_counts(dropna=False)"
   ]
  },
  {
   "cell_type": "code",
   "execution_count": 32,
   "metadata": {},
   "outputs": [
    {
     "name": "stderr",
     "output_type": "stream",
     "text": [
      "/home/nbuser/anaconda3_420/lib/python3.5/site-packages/ipykernel/__main__.py:11: SettingWithCopyWarning: \n",
      "A value is trying to be set on a copy of a slice from a DataFrame\n",
      "\n",
      "See the caveats in the documentation: http://pandas.pydata.org/pandas-docs/stable/indexing.html#indexing-view-versus-copy\n"
     ]
    }
   ],
   "source": [
    "#Derive sector averages\n",
    "#We calculate sector averages below for all income and balance sheet variables. In addition, we need to handle 3 stock variables.\n",
    "#We have exactly two firms - FOX and FOXA (Consumer Discretionary) - that do not have any stock price recordings. Given that all these\n",
    "#companies are S&P500, it is safe to assume that companies in the same industry will average out around the same stock price\n",
    "#Moreover, only 7-8 recordings are affected by the same.\n",
    "def sectavg (var):\n",
    "    if np.where(alldata.columns.values==var.name)[0][0] in np.append(np.arange(48)+1, np.array([97,98,99])):\n",
    "        industries = alldata.loc[var.isnull(), \"Sector\"].dropna().unique()\n",
    "        for ind in industries:\n",
    "            comm = np.sum(alldata.loc[alldata.Sector==ind, var.name])/ len(alldata.loc[alldata.Sector==ind, var.name])\n",
    "            var[(alldata.Sector==ind) & var.isnull()] = round(comm, 2)\n",
    "    return var\n",
    "\n",
    "alldata = alldata.apply(lambda s: sectavg(s))"
   ]
  },
  {
   "cell_type": "markdown",
   "metadata": {},
   "source": [
    "<b> STEP 3: Algorithmic Imputers </b>"
   ]
  },
  {
   "cell_type": "markdown",
   "metadata": {},
   "source": [
    "After having eliminated all missing values in balance and income statements, we need algorithmic imputers - scikitlearn's preprocessing functions or impyute's knn and mice systems, to fill the remainder of values, before proceeding to feature engineering. For this final stage of data cleaning, we divide our features into 4 buckets - noact (no imputation; a fillna to be called), calc (ratios that can easily be calculated from other completed values), knnalg (ratios that cant be calculated but are closely linked to income/balance sheet values and so nearest neighbours is an ideal approach), and simimp (ratios that are finally not closely linked to available values and must be directly imputed)."
   ]
  },
  {
   "cell_type": "code",
   "execution_count": 33,
   "metadata": {},
   "outputs": [],
   "source": [
    "#Declare the final method of imputation for key metrics variables, mostly existing imputation algorithms\n",
    "#These variables determine the response indicator and thus cannot be imputed\n",
    "noact = ['Dividend Yield', 'Payout Ratio']\n",
    "#These are calculated using known financial formulae\n",
    "calc = ['Net Debt to EBITDA', 'SG&A to Revenue', 'Debt to Assets', \n",
    "        'Intangibles to Total Assets', 'R&D to Revenue']\n",
    "#These are closely linked to values we calculated above and thus nearest neighbour is apt\n",
    "knnalg = ['Average Inventory','Average Payables', 'Average Receivables', 'Book Value per Share',\n",
    "          'Capex per Share', 'Capex to Depreciation', 'Days Payables Outstanding', \n",
    "          'Days of Inventory on Hand','Inventory Turnover','Invested Capital', 'Market Cap', \n",
    "          'Net Current Asset Value','Payables Turnover']\n",
    "#We do not have enough information to closely match or calculate these already and thus use Imputer\n",
    "simimp = ['Revenue per Share', 'Shareholders Equity per Share','EV to Operating cash flow',\n",
    "          'Stock-based compensation to Revenue','Tangible Book Value per Share', \n",
    "          'Capex to Operating Cash Flow','Capex to Revenue','Cash per Share',\n",
    "          'Days Sales Outstanding','EV to Free cash flow','EV to Sales','Earnings Yield',\n",
    "          'Enterprise Value','Enterprise Value over EBITDA','Free Cash Flow Yield', \n",
    "          'Free Cash Flow per Share','Graham Net-Net','Graham Number','Income Quality',\n",
    "          'Interest Coverage','Interest Debt per Share','Net Income per Share',\n",
    "          'Operating Cash Flow per Share','PB ratio','PE ratio','PFCF ratio', 'POCF ratio', \n",
    "          'PTB ratio','Price to Sales Ratio']"
   ]
  },
  {
   "cell_type": "code",
   "execution_count": 34,
   "metadata": {},
   "outputs": [],
   "source": [
    "#Deal with noact and calc first\n",
    "for i in noact:\n",
    "    alldata[i] = alldata[i].fillna(0)\n",
    "alldata.loc[alldata[calc[0]].isnull(), calc[0]] = alldata['Total liabilities'] / alldata['EBITDA']\n",
    "alldata.loc[alldata[calc[1]].isnull(), calc[1]] = alldata['Sales, General and administrative'] / alldata['Revenue']\n",
    "alldata.loc[alldata[calc[2]].isnull(), calc[2]] = alldata['Total liabilities'] / alldata['Total assets']\n",
    "alldata.loc[alldata[calc[3]].isnull(), calc[3]] = alldata['Intangible assets'] / alldata['Total assets']\n",
    "alldata.loc[alldata[calc[4]].isnull(), calc[4]] = alldata['Research and development'] / alldata['Revenue']"
   ]
  },
  {
   "cell_type": "code",
   "execution_count": 35,
   "metadata": {},
   "outputs": [],
   "source": [
    "#Handle knnalg imputations\n",
    "relevdata = alldata[np.append(alldata.columns.values[1:48], knnalg)]\n",
    "relevdata = fast_knn(relevdata, k=5)\n",
    "alldata.drop(knnalg, axis=1, inplace=True)\n",
    "relevdata = relevdata.iloc[:, 47:]\n",
    "cur = relevdata.columns.values\n",
    "relevdata.rename(columns=dict(zip(cur, knnalg)), inplace=True)\n",
    "alldata = pd.concat([alldata, relevdata], axis=1)"
   ]
  },
  {
   "cell_type": "code",
   "execution_count": 36,
   "metadata": {},
   "outputs": [
    {
     "data": {
      "image/png": "[encoded data removed]",
      "text/plain": [
       "<matplotlib.figure.Figure at 0x7f7112b07e48>"
      ]
     },
     "metadata": {},
     "output_type": "display_data"
    },
    {
     "data": {
      "image/png": "[encoded data removed]",
      "text/plain": [
       "<matplotlib.figure.Figure at 0x7f7113efc6d8>"
      ]
     },
     "metadata": {},
     "output_type": "display_data"
    },
    {
     "data": {
      "image/png": "[encoded data removed]",
      "text/plain": [
       "<matplotlib.figure.Figure at 0x7f7112ead4a8>"
      ]
     },
     "metadata": {},
     "output_type": "display_data"
    }
   ],
   "source": [
    "#Explore feasible method of simple imputation based on value distribution\n",
    "#Here, we choose three random variables and plot these to get a general idea\n",
    "plt.subplot(311)\n",
    "plt.hist(alldata[simimp[0]].sort_values().dropna().values, bins=15, color='green')\n",
    "plt.title(simimp[0])\n",
    "plt.show()\n",
    "plt.subplot(312)\n",
    "plt.hist(alldata[simimp[4]].sort_values().dropna().values, bins=15, color='green')\n",
    "plt.title(simimp[4])\n",
    "plt.show()\n",
    "plt.subplot(313)\n",
    "plt.hist(alldata[simimp[10]].sort_values().dropna().values, bins=15, color='green')\n",
    "plt.title(simimp[10])\n",
    "plt.show()"
   ]
  },
  {
   "cell_type": "markdown",
   "metadata": {},
   "source": [
    "Since the distributions are clearly right-skewed, using 'mean' approach to impute missing values would likely lead to general over-estimates. Thus, since the data is not normal, we have two approaches: either power-transform the data into a normal distribution and then impute with mean, or just directly impute with median. To preserve the actual current values for the variables, the latter approach has been chosen. Therefore, scikitlearn's Imputer is used with the 'median' strategy."
   ]
  },
  {
   "cell_type": "code",
   "execution_count": 37,
   "metadata": {},
   "outputs": [
    {
     "name": "stderr",
     "output_type": "stream",
     "text": [
      "/home/nbuser/anaconda3_420/lib/python3.5/site-packages/sklearn/utils/deprecation.py:66: DeprecationWarning: Class Imputer is deprecated; Imputer was deprecated in version 0.20 and will be removed in 0.22. Import impute.SimpleImputer from sklearn instead.\n",
      "  warnings.warn(msg, category=DeprecationWarning)\n"
     ]
    }
   ],
   "source": [
    "imp = Imputer(missing_values=np.nan, strategy='median')\n",
    "for col in simimp:\n",
    "    vals = alldata[col].values.reshape(-1,1)\n",
    "    newvals = imp.fit_transform(vals).reshape(1,-1)\n",
    "    alldata[col] = newvals[0]"
   ]
  },
  {
   "cell_type": "code",
   "execution_count": 38,
   "metadata": {},
   "outputs": [
    {
     "data": {
      "text/plain": [
       "Series([], dtype: float64)"
      ]
     },
     "execution_count": 38,
     "metadata": {},
     "output_type": "execute_result"
    }
   ],
   "source": [
    "#All missing values have been successfully imputed\n",
    "#Save cleaned file before proceeding to feature engineering\n",
    "alldata.to_pickle('sp500cleandata.pkl')\n",
    "alldata.apply(lambda s: sum(s.isnull()) if sum(s.isnull()) > 0 else np.nan).dropna()"
   ]
  },
  {
   "cell_type": "markdown",
   "metadata": {},
   "source": [
    "<h2> Feature Engineering </h2>"
   ]
  },
  {
   "cell_type": "markdown",
   "metadata": {},
   "source": [
    "In this section, we engineer three varied buckets of features for the data - dividend values and attributes (amount, frequency and distance from payment), company characteristics (composition in the SP500 or industry on the basis of market cap etc.), and numerous financial ratios. This helps balance 'static' and 'dynamic' variables in our final data,  making it more representative and predictive of our response variable. After feature engineering, we proceed to model training."
   ]
  },
  {
   "cell_type": "markdown",
   "metadata": {},
   "source": [
    "<b> STEP 1: Dividend-Based Features"
   ]
  },
  {
   "cell_type": "markdown",
   "metadata": {},
   "source": [
    "Dividends can be calculated as either Payout Ratio * Earnings per Share or Dividend Yield * Stock Price. While these mathematically-yield close results, they cause a small an average difference of 0.13 cents on our data. Hence, the dividend value used in model training is the average of these two approaches. Subsequently, after dynamic dividend features are engineered, the payout ratio and yield are dropped as these cannot be known prior to dividend declaration and thus have no net predictive or applicable value in our pipeline."
   ]
  },
  {
   "cell_type": "code",
   "execution_count": 8,
   "metadata": {},
   "outputs": [],
   "source": [
    "alldata = pd.read_pickle('../data/sp500cleandata.pkl')"
   ]
  },
  {
   "cell_type": "code",
   "execution_count": 9,
   "metadata": {},
   "outputs": [
    {
     "name": "stdout",
     "output_type": "stream",
     "text": [
      "-0.09035920830895001\n"
     ]
    }
   ],
   "source": [
    "x = alldata['Dividend Yield'] * alldata['stockprc']\n",
    "y = alldata['Payout Ratio'] * alldata['Basic_EPS']\n",
    "#Average error in two approaches to dividend\n",
    "print(sum(x-y)/len(x))\n",
    "alldata['Dividend'] = (x + y)/2"
   ]
  },
  {
   "cell_type": "code",
   "execution_count": 10,
   "metadata": {},
   "outputs": [
    {
     "data": {
      "text/plain": [
       "PAID      1873\n",
       "UNPAID     451\n",
       "Name: Dividend, dtype: int64"
      ]
     },
     "execution_count": 10,
     "metadata": {},
     "output_type": "execute_result"
    }
   ],
   "source": [
    "alldata.Dividend.apply(lambda s: 'PAID'  if s > 0 else 'UNPAID').value_counts(dropna=False)"
   ]
  },
  {
   "cell_type": "code",
   "execution_count": 11,
   "metadata": {},
   "outputs": [],
   "source": [
    "#Dynamic payment duration variables\n",
    "alldata['Div_Paid?'] = alldata.Dividend.apply(lambda s: 1 if s > 0 else 0)\n",
    "#When attempting to check whether the company has paid dividend in the previous year, we would have to drop the first recording for\n",
    "#every firm since such data would be unavailable. However, since we already have limited data available from the API, it would \n",
    "#significantly reduce our training set and affect the applicability of the model. To get around it, we derive estimations for this\n",
    "#first recording. As such, we assign a 1 (last dividend paid) if the company has paid a special majority of more dividends \n",
    "#than not in recorded history, else 0. The reason we are stricter at a 0.67 requirement than 0.5 is to ensure greater certainty in\n",
    "#the fundamental dividend features in our model\n",
    "row = np.cumsum(pd.Series(np.ones(len(alldata))))\n",
    "track = np.cumsum(alldata['Div_Paid?'])\n",
    "row = row - row.where(alldata.firm != alldata.firm.shift(-1)).shift(1).ffill().fillna(0)\n",
    "track = track - track.where(alldata.firm != alldata.firm.shift(-1)).shift(1).ffill().fillna(0)\n",
    "row = row.where(alldata.firm != alldata.firm.shift(-1)).bfill()\n",
    "track = track.where(alldata.firm != alldata.firm.shift(-1)).bfill()\n",
    "track = track/row\n",
    "track = track.where(alldata.firm != alldata.firm.shift(1)).fillna(0)\n",
    "track = track.apply(lambda s: 1 if s > 0.67 else 0)\n",
    "alldata['Paid_LastYr?'] = alldata['Div_Paid?'].shift(1)\n",
    "alldata.loc[alldata.firm != alldata.firm.shift(1), 'Paid_LastYr?'] = 0\n",
    "alldata['Paid_LastYr?'] = alldata['Paid_LastYr?'] + track"
   ]
  },
  {
   "cell_type": "code",
   "execution_count": 12,
   "metadata": {},
   "outputs": [],
   "source": [
    "#We now define a categorical variable - distance from last dividend. It can either be 1-5 or UNKNOWN. The reason this is being treated\n",
    "#as discrete not continuous is to allow the fact that since companies have existed for long durations, imputing unavailable data may lead\n",
    "#to excessive engineering of the training set, not being representative of the original data itself.\n",
    "dist = alldata['Paid_LastYr?'].map({1:0, 0:1})\n",
    "dist = np.cumsum(dist)\n",
    "dist = dist - dist.where(alldata.firm != alldata.firm.shift(-1)).shift(1).ffill().fillna(0)\n",
    "alldata['DistanceFromLast'] = dist + 1\n",
    "alldata['DistanceFromLast'] = alldata['DistanceFromLast'].astype('int').astype('str')\n",
    "alldata.loc[alldata.firm != alldata.firm.shift(1), \"DistanceFromLast\"] = 'UNKNOWN'"
   ]
  },
  {
   "cell_type": "markdown",
   "metadata": {},
   "source": [
    "We now try to find the proportion of industry that paid last year. Since the bulk of our data lies in 2014-2018, these years have enough samples to provide reliable estimates for this value. However, 2013 and 2019, seen below, have very few samples. Thus, we impute 2014's readings to 2013, and 2018's readings to 2019. This should not severely affect the model, given only 13 recordings total in consideration."
   ]
  },
  {
   "cell_type": "code",
   "execution_count": 13,
   "metadata": {},
   "outputs": [
    {
     "data": {
      "text/plain": [
       "2017    486\n",
       "2016    473\n",
       "2018    463\n",
       "2015    458\n",
       "2014    431\n",
       "2013      8\n",
       "2019      5\n",
       "Name: Year, dtype: int64"
      ]
     },
     "execution_count": 13,
     "metadata": {},
     "output_type": "execute_result"
    }
   ],
   "source": [
    "alldata['Year'] = alldata['date'].apply(lambda s: int(s/100))\n",
    "alldata.drop(['date'], axis=1, inplace=True)\n",
    "alldata.Year.value_counts()"
   ]
  },
  {
   "cell_type": "code",
   "execution_count": 14,
   "metadata": {
    "scrolled": true
   },
   "outputs": [
    {
     "name": "stderr",
     "output_type": "stream",
     "text": [
      "/srv/conda/envs/notebook/lib/python3.7/site-packages/ipykernel_launcher.py:3: SettingWithCopyWarning: \n",
      "A value is trying to be set on a copy of a slice from a DataFrame\n",
      "\n",
      "See the caveats in the documentation: http://pandas.pydata.org/pandas-docs/stable/indexing.html#indexing-view-versus-copy\n",
      "  This is separate from the ipykernel package so we can avoid doing imports until\n",
      "/srv/conda/envs/notebook/lib/python3.7/site-packages/ipykernel_launcher.py:6: SettingWithCopyWarning: \n",
      "A value is trying to be set on a copy of a slice from a DataFrame.\n",
      "Try using .loc[row_indexer,col_indexer] = value instead\n",
      "\n",
      "See the caveats in the documentation: http://pandas.pydata.org/pandas-docs/stable/indexing.html#indexing-view-versus-copy\n",
      "  \n",
      "/srv/conda/envs/notebook/lib/python3.7/site-packages/ipykernel_launcher.py:7: SettingWithCopyWarning: \n",
      "A value is trying to be set on a copy of a slice from a DataFrame.\n",
      "Try using .loc[row_indexer,col_indexer] = value instead\n",
      "\n",
      "See the caveats in the documentation: http://pandas.pydata.org/pandas-docs/stable/indexing.html#indexing-view-versus-copy\n",
      "  import sys\n",
      "/srv/conda/envs/notebook/lib/python3.7/site-packages/ipykernel_launcher.py:10: SettingWithCopyWarning: \n",
      "A value is trying to be set on a copy of a slice from a DataFrame.\n",
      "Try using .loc[row_indexer,col_indexer] = value instead\n",
      "\n",
      "See the caveats in the documentation: http://pandas.pydata.org/pandas-docs/stable/indexing.html#indexing-view-versus-copy\n",
      "  # Remove the CWD from sys.path while we load stuff.\n",
      "/srv/conda/envs/notebook/lib/python3.7/site-packages/ipykernel_launcher.py:11: SettingWithCopyWarning: \n",
      "A value is trying to be set on a copy of a slice from a DataFrame.\n",
      "Try using .loc[row_indexer,col_indexer] = value instead\n",
      "\n",
      "See the caveats in the documentation: http://pandas.pydata.org/pandas-docs/stable/indexing.html#indexing-view-versus-copy\n",
      "  # This is added back by InteractiveShellApp.init_path()\n",
      "/srv/conda/envs/notebook/lib/python3.7/site-packages/pandas/core/frame.py:3940: SettingWithCopyWarning: \n",
      "A value is trying to be set on a copy of a slice from a DataFrame\n",
      "\n",
      "See the caveats in the documentation: http://pandas.pydata.org/pandas-docs/stable/indexing.html#indexing-view-versus-copy\n",
      "  errors=errors)\n",
      "/srv/conda/envs/notebook/lib/python3.7/site-packages/ipykernel_launcher.py:13: SettingWithCopyWarning: \n",
      "A value is trying to be set on a copy of a slice from a DataFrame\n",
      "\n",
      "See the caveats in the documentation: http://pandas.pydata.org/pandas-docs/stable/indexing.html#indexing-view-versus-copy\n",
      "  del sys.path[0]\n",
      "/srv/conda/envs/notebook/lib/python3.7/site-packages/pandas/core/indexing.py:543: SettingWithCopyWarning: \n",
      "A value is trying to be set on a copy of a slice from a DataFrame.\n",
      "Try using .loc[row_indexer,col_indexer] = value instead\n",
      "\n",
      "See the caveats in the documentation: http://pandas.pydata.org/pandas-docs/stable/indexing.html#indexing-view-versus-copy\n",
      "  self.obj[item] = s\n"
     ]
    }
   ],
   "source": [
    "#We first create a table with the year and sector wise cumulations of paid_lastyr? to determine prop of sector that paid\n",
    "vals = alldata[['Year', 'Sector', 'Paid_LastYr?']]\n",
    "vals.sort_values(by=['Sector', 'Year'], ascending=True, inplace=True)\n",
    "vals.reset_index(drop=True, inplace=True)\n",
    "#Since the data is first sorted on sector, we can use year as the divider between individual cumulative sums\n",
    "vals['Total'] = pd.Series(np.arange(len(vals)) + 1)\n",
    "vals['Total'] = vals['Total'] - vals['Total'].where(vals.Year != vals.Year.shift(-1)).shift(1).ffill().fillna(0)\n",
    "tmp = np.cumsum(vals['Paid_LastYr?'])\n",
    "tmp = tmp - tmp.where(vals.Year != vals.Year.shift(-1)).shift(1).ffill().fillna(0)\n",
    "vals['Paid_LastYr?'] = tmp\n",
    "vals['SectPaidLastYr'] = vals['Paid_LastYr?'] / vals['Total']\n",
    "vals.drop(['Paid_LastYr?', 'Total'], axis=1, inplace=True)\n",
    "vals.drop_duplicates(subset=['Sector', 'Year'], keep='last', inplace=True)\n",
    "vals.loc[vals.Year==2013, 'SectPaidLastYr'] = vals.SectPaidLastYr.shift(-1)\n",
    "vals.loc[vals.Year==2019, 'SectPaidLastYr'] = vals.SectPaidLastYr.shift(1)\n",
    "#Using the above table, we add the feature to alldata\n",
    "alldata = alldata.merge(vals, on=['Sector', 'Year'], how='left')"
   ]
  },
  {
   "cell_type": "markdown",
   "metadata": {},
   "source": [
    "<b> STEP 2: Company Characteristics </b>"
   ]
  },
  {
   "cell_type": "markdown",
   "metadata": {},
   "source": [
    "There is simply one major company characteristics we calculate based on market cap: the proportion of a company to average in its industry."
   ]
  },
  {
   "cell_type": "code",
   "execution_count": 15,
   "metadata": {
    "scrolled": true
   },
   "outputs": [
    {
     "name": "stderr",
     "output_type": "stream",
     "text": [
      "/srv/conda/envs/notebook/lib/python3.7/site-packages/ipykernel_launcher.py:3: SettingWithCopyWarning: \n",
      "A value is trying to be set on a copy of a slice from a DataFrame\n",
      "\n",
      "See the caveats in the documentation: http://pandas.pydata.org/pandas-docs/stable/indexing.html#indexing-view-versus-copy\n",
      "  This is separate from the ipykernel package so we can avoid doing imports until\n",
      "/srv/conda/envs/notebook/lib/python3.7/site-packages/ipykernel_launcher.py:6: SettingWithCopyWarning: \n",
      "A value is trying to be set on a copy of a slice from a DataFrame.\n",
      "Try using .loc[row_indexer,col_indexer] = value instead\n",
      "\n",
      "See the caveats in the documentation: http://pandas.pydata.org/pandas-docs/stable/indexing.html#indexing-view-versus-copy\n",
      "  \n",
      "/srv/conda/envs/notebook/lib/python3.7/site-packages/ipykernel_launcher.py:7: SettingWithCopyWarning: \n",
      "A value is trying to be set on a copy of a slice from a DataFrame.\n",
      "Try using .loc[row_indexer,col_indexer] = value instead\n",
      "\n",
      "See the caveats in the documentation: http://pandas.pydata.org/pandas-docs/stable/indexing.html#indexing-view-versus-copy\n",
      "  import sys\n",
      "/srv/conda/envs/notebook/lib/python3.7/site-packages/ipykernel_launcher.py:10: SettingWithCopyWarning: \n",
      "A value is trying to be set on a copy of a slice from a DataFrame.\n",
      "Try using .loc[row_indexer,col_indexer] = value instead\n",
      "\n",
      "See the caveats in the documentation: http://pandas.pydata.org/pandas-docs/stable/indexing.html#indexing-view-versus-copy\n",
      "  # Remove the CWD from sys.path while we load stuff.\n",
      "/srv/conda/envs/notebook/lib/python3.7/site-packages/ipykernel_launcher.py:11: SettingWithCopyWarning: \n",
      "A value is trying to be set on a copy of a slice from a DataFrame.\n",
      "Try using .loc[row_indexer,col_indexer] = value instead\n",
      "\n",
      "See the caveats in the documentation: http://pandas.pydata.org/pandas-docs/stable/indexing.html#indexing-view-versus-copy\n",
      "  # This is added back by InteractiveShellApp.init_path()\n",
      "/srv/conda/envs/notebook/lib/python3.7/site-packages/ipykernel_launcher.py:13: SettingWithCopyWarning: \n",
      "A value is trying to be set on a copy of a slice from a DataFrame\n",
      "\n",
      "See the caveats in the documentation: http://pandas.pydata.org/pandas-docs/stable/indexing.html#indexing-view-versus-copy\n",
      "  del sys.path[0]\n"
     ]
    }
   ],
   "source": [
    "#We first create a table with the year and sector wise cumulations of market cap to determine ratio of company to avg yearly mktcap\n",
    "vals = alldata[['Year', 'Sector', 'Market Cap']]\n",
    "vals.sort_values(by=['Sector', 'Year'], ascending=True, inplace=True)\n",
    "vals.reset_index(drop=True, inplace=True)\n",
    "#Since the data is first sorted on sector, we can use year as the divider between individual cumulative sums\n",
    "vals['Total'] = pd.Series(np.arange(len(vals)) + 1)\n",
    "vals['Total'] = vals['Total'] - vals['Total'].where(vals.Year != vals.Year.shift(-1)).shift(1).ffill().fillna(0)\n",
    "tmp = np.cumsum(vals['Market Cap'])\n",
    "tmp = tmp - tmp.where(vals.Year != vals.Year.shift(-1)).shift(1).ffill().fillna(0)\n",
    "vals['Market Cap'] = tmp\n",
    "vals['AvgMktCap'] = vals['Market Cap'] / vals['Total']\n",
    "vals.drop(['Market Cap', 'Total'], axis=1, inplace=True)\n",
    "vals.drop_duplicates(subset=['Sector', 'Year'], keep='last', inplace=True)\n",
    "vals.loc[vals.Year==2013, 'AvgMktCap'] = vals.AvgMktCap.shift(-1)\n",
    "vals.loc[vals.Year==2019, 'AvgMktCap'] = vals.AvgMktCap.shift(1)\n",
    "alldata = alldata.merge(vals, on=['Sector', 'Year'], how='left')\n",
    "alldata['PropSectorAvgMktCap'] = alldata['Market Cap']/alldata['AvgMktCap']\n",
    "alldata.drop(['AvgMktCap'], axis=1, inplace=True)"
   ]
  },
  {
   "cell_type": "markdown",
   "metadata": {},
   "source": [
    "<b> STEP 3: Financial Ratios </b>"
   ]
  },
  {
   "cell_type": "markdown",
   "metadata": {},
   "source": [
    "We proceed to engineer limited financial ratios from the data available above. These help add greater depth to the variety of financial information available."
   ]
  },
  {
   "cell_type": "code",
   "execution_count": 16,
   "metadata": {},
   "outputs": [],
   "source": [
    "alldata['currentRatio'] = alldata['Total current assets'] / alldata['Total current liabilities']\n",
    "alldata['grossProfitMargin'] = alldata['Gross profit'] / alldata['Revenue']\n",
    "alldata['operatingProfitMargin'] = alldata['Operating income'] / alldata['Revenue']\n",
    "alldata['returnOnAssets'] = alldata['Net income'] / alldata['Total assets']\n",
    "alldata['assetTurnover'] = alldata['Revenue'] / alldata['Total assets']"
   ]
  },
  {
   "cell_type": "code",
   "execution_count": 17,
   "metadata": {},
   "outputs": [
    {
     "name": "stdout",
     "output_type": "stream",
     "text": [
      "<class 'pandas.core.frame.DataFrame'>\n",
      "RangeIndex: 2092 entries, 0 to 2091\n",
      "Columns: 118 entries, Revenue to assetTurnover\n",
      "dtypes: float64(113), int64(2), object(3)\n",
      "memory usage: 1.9+ MB\n"
     ]
    }
   ],
   "source": [
    "#Drop errenous values\n",
    "#Due to the imputation and engineering performed in this section, there are a few cases where data is excessively manipulated such that\n",
    "#it does not hold logical coherence any more. We did not exclude them before feature engineering as we needed them for sector-related\n",
    "#feature engineering. These data points are eliminated below\n",
    "firm = set(alldata.loc[alldata['Cost of revenue'] > alldata['Revenue'], \"firm\"])\n",
    "firm = firm.union(set(alldata.loc[alldata['Total current liabilities'] > alldata['Total liabilities'], \"firm\"]))\n",
    "firm = firm.union(set(alldata.loc[alldata['Total non-current liabilities'] > alldata['Total liabilities'], \"firm\"]))\n",
    "firm = firm.union(set(alldata.loc[alldata['Total current assets'] > alldata['Total assets'], \"firm\"]))\n",
    "firm = firm.union(set(alldata.loc[alldata['Total non-current assets'] > alldata['Total assets'], \"firm\"]))\n",
    "alldata = alldata[(~(alldata.firm.isin(firm)))]\n",
    "alldata.sort_values(by=['firm', 'Year'], ascending=[True, True], inplace=True)\n",
    "alldata.reset_index(drop=True, inplace=True)\n",
    "alldata.info()\n"
   ]
  },
  {
   "cell_type": "code",
   "execution_count": 18,
   "metadata": {},
   "outputs": [],
   "source": [
    "alldata.to_pickle('../data/sp500finaldata.pkl')"
   ]
  },
  {
   "cell_type": "code",
   "execution_count": null,
   "metadata": {},
   "outputs": [],
   "source": []
  }
 ],
 "metadata": {
  "kernelspec": {
   "display_name": "Python 3",
   "language": "python",
   "name": "python3"
  },
  "language_info": {
   "codemirror_mode": {
    "name": "ipython",
    "version": 3
   },
   "file_extension": ".py",
   "mimetype": "text/x-python",
   "name": "python",
   "nbconvert_exporter": "python",
   "pygments_lexer": "ipython3",
   "version": "3.7.3"
  }
 },
 "nbformat": 4,
 "nbformat_minor": 2
}
